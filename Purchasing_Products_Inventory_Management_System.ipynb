{
  "nbformat": 4,
  "nbformat_minor": 0,
  "metadata": {
    "colab": {
      "name": "Purchasing Products Inventory Management System.ipynb",
      "provenance": [],
      "collapsed_sections": []
    },
    "kernelspec": {
      "name": "python3",
      "display_name": "Python 3"
    },
    "language_info": {
      "name": "python"
    }
  },
  "cells": [
    {
      "cell_type": "code",
      "metadata": {
        "id": "UIwsUgUYdz4Z"
      },
      "source": [
        "import json\n",
        "\n",
        "fd = open(\"record.json\",'r')\n",
        "r = fd.read()\n",
        "fd.close()\n",
        "\n",
        "records = json.loads(r)"
      ],
      "execution_count": 28,
      "outputs": []
    },
    {
      "cell_type": "code",
      "metadata": {
        "id": "jKbny75gh0Sm"
      },
      "source": [
        "import json\n",
        "\n",
        "fd = open(\"sales.json\",'r')\n",
        "s = fd.read()\n",
        "fd.close()\n",
        "\n",
        "sales = json.loads(s)"
      ],
      "execution_count": 43,
      "outputs": []
    },
    {
      "cell_type": "code",
      "metadata": {
        "colab": {
          "base_uri": "https://localhost:8080/"
        },
        "id": "7XWEE8MZjCGe",
        "outputId": "af295b1c-5657-4518-9de3-1fdc862d56c1"
      },
      "source": [
        "sales"
      ],
      "execution_count": 44,
      "outputs": [
        {
          "output_type": "execute_result",
          "data": {
            "text/plain": [
              "{'1': {'amount': 125,\n",
              "  'date': '2021-09-06',\n",
              "  'name': 'Fair and Lovely',\n",
              "  'product_id': '1017',\n",
              "  'quantity': 1},\n",
              " '2': {'amount': 10,\n",
              "  'date': '2021-09-06',\n",
              "  'name': 'Parle Bourbon',\n",
              "  'product_id': '1016',\n",
              "  'quantity': 1},\n",
              " '3': {'amount': 10,\n",
              "  'date': '2021-09-06',\n",
              "  'name': 'Parle Bourbon',\n",
              "  'product_id': '1016',\n",
              "  'quantity': 1},\n",
              " '4': {'amount': 10,\n",
              "  'date': '2021-09-06',\n",
              "  'name': 'Parle Bourbon',\n",
              "  'product_id': '1016',\n",
              "  'quantity': 1},\n",
              " '5': {'amount': 10,\n",
              "  'date': '2021-09-06',\n",
              "  'name': 'Parle Bourbon',\n",
              "  'product_id': '1016',\n",
              "  'quantity': 1}}"
            ]
          },
          "metadata": {},
          "execution_count": 44
        }
      ]
    },
    {
      "cell_type": "code",
      "metadata": {
        "colab": {
          "base_uri": "https://localhost:8080/"
        },
        "id": "qpLvnj52eswJ",
        "outputId": "c1762bde-e656-416a-9daf-ed04ebf5ef1c"
      },
      "source": [
        "records"
      ],
      "execution_count": null,
      "outputs": [
        {
          "output_type": "execute_result",
          "data": {
            "text/plain": [
              "{'1001': {'expiry': '2-8-2021',\n",
              "  'manufacture': '5-5-2021',\n",
              "  'name': 'Choco Cake',\n",
              "  'price': 100,\n",
              "  'quantity': 34},\n",
              " '1002': {'expiry': '2-9-2021',\n",
              "  'manufacture': '15-3-2021',\n",
              "  'name': 'Milk Cake',\n",
              "  'price': 800,\n",
              "  'quantity': 100},\n",
              " '1003': {'expiry': '4-11-2021',\n",
              "  'manufacture': '23-2-2021',\n",
              "  'name': 'Drink',\n",
              "  'price': 85,\n",
              "  'quantity': 100},\n",
              " '1004': {'expiry': '13-8-2021',\n",
              "  'manufacture': '25-5-2021',\n",
              "  'name': 'Candy',\n",
              "  'price': 5,\n",
              "  'quantity': 1000},\n",
              " '1005': {'expiry': '10-11-2021',\n",
              "  'manufacture': 'N/A',\n",
              "  'name': 'Pen',\n",
              "  'price': 20,\n",
              "  'quantity': 100},\n",
              " '1006': {'expiry': '22-8-2021',\n",
              "  'manufacture': 'N/A',\n",
              "  'name': 'Phone',\n",
              "  'price': 50000,\n",
              "  'quantity': 10},\n",
              " '1007': {'expiry': '27-10-2021',\n",
              "  'manufacture': 'N/A',\n",
              "  'name': 'Mic',\n",
              "  'price': 1500,\n",
              "  'quantity': 0},\n",
              " '1008': {'expiry': '2-11-2021',\n",
              "  'manufacture': '12-3-2021',\n",
              "  'name': 'Case',\n",
              "  'price': 599,\n",
              "  'quantity': 5},\n",
              " '1009': {'expiry': '23-9-2021',\n",
              "  'manufacture': 'N/A',\n",
              "  'name': 'Keyboard',\n",
              "  'price': 1999,\n",
              "  'quantity': 10},\n",
              " '1010': {'expiry': '12-8-2021',\n",
              "  'manufacture': '23-4-2021',\n",
              "  'name': 'chocochips',\n",
              "  'price': 25,\n",
              "  'quantity': 5},\n",
              " '1011': {'expiry': '2-5-2022',\n",
              "  'manufacture': '2-5-2021',\n",
              "  'name': 'Kit Kat',\n",
              "  'price': 5,\n",
              "  'quantity': 50},\n",
              " '1012': {'expiry': 'None',\n",
              "  'manufacture': '12-1-2021',\n",
              "  'name': 'Addidas Socks',\n",
              "  'price': 500,\n",
              "  'quantity': 20},\n",
              " '1013': {'expiry': 'N/A',\n",
              "  'manufacture': '5-3-2021',\n",
              "  'name': 'Nike shoes',\n",
              "  'price': 2500,\n",
              "  'quantity': 20},\n",
              " '1014': {'expiry': 'N/A',\n",
              "  'manufacture': '15-1-2021',\n",
              "  'name': 'Apsara Pencils',\n",
              "  'price': 30,\n",
              "  'quantity': 25},\n",
              " '1015': {'expiry': '7-5-2021',\n",
              "  'manufacture': '4-5-2021',\n",
              "  'name': 'Haldiram Milk Bread',\n",
              "  'price': 20,\n",
              "  'quantity': 50},\n",
              " '1016': {'expiry': 'N/A',\n",
              "  'manufacture': '2-6-2021',\n",
              "  'name': 'Parle Bourbon',\n",
              "  'price': 10,\n",
              "  'quantity': 100},\n",
              " '1017': {'expiry': '3-5-2022',\n",
              "  'manufacture': '3-5-2021',\n",
              "  'name': 'Fair and Lovely',\n",
              "  'price': 125,\n",
              "  'quantity': 25},\n",
              " '1018': {'expiry': '4-5-2021',\n",
              "  'manufacture': '3-5-2021',\n",
              "  'name': 'Coca Cola',\n",
              "  'price': 20,\n",
              "  'quantity': 110},\n",
              " '1019': {'expiry': '9-4-2021',\n",
              "  'manufacture': '3-4-2021',\n",
              "  'name': 'Amul Milk',\n",
              "  'price': 20,\n",
              "  'quantity': 80},\n",
              " '1020': {'expiry': 'N/A',\n",
              "  'manufacture': '15-4-2021',\n",
              "  'name': 'Classmate Longbook',\n",
              "  'price': 80,\n",
              "  'quantity': 200},\n",
              " '1021': {'expiry': 'N/A',\n",
              "  'manufacture': '23-5-2021',\n",
              "  'name': 'Trimax pen',\n",
              "  'price': 35,\n",
              "  'quantity': 200},\n",
              " '1022': {'expiry': 'N/A',\n",
              "  'manufacture': '25-5-2021',\n",
              "  'name': 'Boat Earphones',\n",
              "  'price': 2999,\n",
              "  'quantity': 10},\n",
              " '2023': {'expiry': 'N/A',\n",
              "  'manufacture': '26-8-2021',\n",
              "  'name': 'Titan Watch',\n",
              "  'price': 2500,\n",
              "  'quantity': 25},\n",
              " '2024': {'expiry': 'N/A',\n",
              "  'manufacture': '19-5-2021',\n",
              "  'name': 'Woodland Shoes',\n",
              "  'price': 2400,\n",
              "  'quantity': 5},\n",
              " '2025': {'expiry': '23-3-2021',\n",
              "  'manufacture': '12-3-2021',\n",
              "  'name': 'Goodnight refil',\n",
              "  'price': 35,\n",
              "  'quantity': 190},\n",
              " '2026': {'expiry': 'N/A',\n",
              "  'manufacture': '23-6-2021',\n",
              "  'name': 'Skullcandy Earphones',\n",
              "  'price': 2500,\n",
              "  'quantity': 30},\n",
              " '2027': {'expiry': 'N/A',\n",
              "  'manufacture': '23-4-2021',\n",
              "  'name': 'Samsung mobile',\n",
              "  'price': 65000,\n",
              "  'quantity': 20},\n",
              " '2028': {'expiry': 'N/A',\n",
              "  'manufacture': '31-3-2021',\n",
              "  'name': 'One8 tshirt',\n",
              "  'price': 2000,\n",
              "  'quantity': 50},\n",
              " '2029': {'expiry': 'N/A',\n",
              "  'manufacture': '23-8-2021',\n",
              "  'name': 'MI Powerbank',\n",
              "  'price': 1999,\n",
              "  'quantity': 34},\n",
              " '2030': {'expiry': '12-12-2021',\n",
              "  'manufacture': '17-8-2021',\n",
              "  'name': 'Godrej Haircolor',\n",
              "  'price': 20,\n",
              "  'quantity': 30}}"
            ]
          },
          "metadata": {},
          "execution_count": 6
        }
      ]
    },
    {
      "cell_type": "markdown",
      "metadata": {
        "id": "O8GjnhhF5TUD"
      },
      "source": [
        "Purchasing a product"
      ]
    },
    {
      "cell_type": "code",
      "metadata": {
        "colab": {
          "base_uri": "https://localhost:8080/"
        },
        "id": "f-wsGfwLfC6L",
        "outputId": "254c2aa8-5618-42e3-e4d0-acafcb1e4aeb"
      },
      "source": [
        "from datetime import date\n",
        "uniquei_product  = str(input(\"Enter the product_Id: \"))\n",
        "uniquei_quant = int(input(\"Enter the quantity: \"))\n",
        "\n",
        "\n",
        "print(\"Product: \", records[uniquei_product]['name'])\n",
        "print(\"Price: \", records[uniquei_product]['price'])\n",
        "print(\"Billing Amount: \", records[uniquei_product]['price'] * uniquei_quant)\n",
        "print(\"Date of purchase: \", str(date.today()))\n",
        "\n",
        "sales[len(sales)+1] = {'product_id' : uniquei_product, 'name' : records[uniquei_product]['name'], 'quantity' : uniquei_quant, 'amount': records[uniquei_product]['price'] * uniquei_quant, 'date': str(date.today())}\n",
        "records[uniquei_product]['quantity'] = records[uniquei_product]['quantity'] - uniquei_quant\n",
        "\n",
        "js = json.dumps(records)\n",
        "\n",
        "fd = open(\"record.json\",'w')\n",
        "fd.write(js)\n",
        "fd.close()\n",
        "\n",
        "ks = json.dumps(sales)\n",
        "\n",
        "fd = open(\"sales.json\",'w')\n",
        "fd.write(ks)\n",
        "fd.close()"
      ],
      "execution_count": 68,
      "outputs": [
        {
          "output_type": "stream",
          "name": "stdout",
          "text": [
            "Enter the product_Id: 1015\n",
            "Enter the quantity: 2\n",
            "Product:  Haldiram Milk Bread\n",
            "Price:  20\n",
            "Billing Amount:  40\n",
            "Date of purchase:  2021-09-06\n"
          ]
        }
      ]
    },
    {
      "cell_type": "markdown",
      "metadata": {
        "id": "CNoHOvM79qb5"
      },
      "source": [
        "Check if order is available in the store or not"
      ]
    },
    {
      "cell_type": "code",
      "metadata": {
        "colab": {
          "base_uri": "https://localhost:8080/"
        },
        "id": "DwyyDdRA9vv6",
        "outputId": "a5fa86be-bb76-4a82-bf36-fb8125e31b33"
      },
      "source": [
        "id = str(input(\"Enter the id of item you want to check: \"))\n",
        "\n",
        "if id in records.keys():\n",
        "  print(\"The item is available.\")\n",
        "else:\n",
        "    print(\"Sorry, Item is not available\")"
      ],
      "execution_count": 51,
      "outputs": [
        {
          "output_type": "stream",
          "name": "stdout",
          "text": [
            "Enter the id of item you want to check: 1016\n",
            "the item is available.\n"
          ]
        }
      ]
    },
    {
      "cell_type": "markdown",
      "metadata": {
        "id": "wsyCYraICUl9"
      },
      "source": [
        "Check quantity of a product in store\n"
      ]
    },
    {
      "cell_type": "code",
      "metadata": {
        "colab": {
          "base_uri": "https://localhost:8080/"
        },
        "id": "0IV0SDFBCdET",
        "outputId": "3b13ad92-577c-457e-a17b-a9cecf122ee5"
      },
      "source": [
        "id = str(input(\"Enter the id of item you want to check quantity: \"))\n",
        "\n",
        "print(\"Item with id {} is having {} items\". format(id,str(records[id]['quantity'])) )\n",
        "  "
      ],
      "execution_count": 62,
      "outputs": [
        {
          "output_type": "stream",
          "name": "stdout",
          "text": [
            "Enter the id of item you want to check quantity: 1016\n",
            "Item with id: 1016 is having 96 items\n"
          ]
        }
      ]
    },
    {
      "cell_type": "code",
      "metadata": {
        "id": "_6dTuGj9FWZn"
      },
      "source": [
        "Total money earned\n"
      ],
      "execution_count": null,
      "outputs": []
    },
    {
      "cell_type": "code",
      "metadata": {
        "colab": {
          "base_uri": "https://localhost:8080/"
        },
        "id": "oiMC8ctYE6m_",
        "outputId": "6d15486f-2395-49d7-a300-e9a20d5faccf"
      },
      "source": [
        "sales"
      ],
      "execution_count": 67,
      "outputs": [
        {
          "output_type": "execute_result",
          "data": {
            "text/plain": [
              "{'1': {'amount': 125,\n",
              "  'date': '2021-09-06',\n",
              "  'name': 'Fair and Lovely',\n",
              "  'product_id': '1017',\n",
              "  'quantity': 1},\n",
              " '2': {'amount': 10,\n",
              "  'date': '2021-09-06',\n",
              "  'name': 'Parle Bourbon',\n",
              "  'product_id': '1016',\n",
              "  'quantity': 1},\n",
              " '3': {'amount': 10,\n",
              "  'date': '2021-09-06',\n",
              "  'name': 'Parle Bourbon',\n",
              "  'product_id': '1016',\n",
              "  'quantity': 1},\n",
              " '4': {'amount': 10,\n",
              "  'date': '2021-09-06',\n",
              "  'name': 'Parle Bourbon',\n",
              "  'product_id': '1016',\n",
              "  'quantity': 1},\n",
              " '5': {'amount': 10,\n",
              "  'date': '2021-09-06',\n",
              "  'name': 'Parle Bourbon',\n",
              "  'product_id': '1016',\n",
              "  'quantity': 1},\n",
              " 6: {'amount': 125,\n",
              "  'date': '2021-09-06',\n",
              "  'name': 'chocochips',\n",
              "  'product_id': '1010',\n",
              "  'quantity': 5},\n",
              " 7: {'amount': 85,\n",
              "  'date': '2021-09-06',\n",
              "  'name': 'Drink',\n",
              "  'product_id': '1003',\n",
              "  'quantity': 1},\n",
              " 8: {'amount': 3594,\n",
              "  'date': '2021-09-06',\n",
              "  'name': 'Case',\n",
              "  'product_id': '1008',\n",
              "  'quantity': 6},\n",
              " 9: {'amount': 4500,\n",
              "  'date': '2021-09-06',\n",
              "  'name': 'Mic',\n",
              "  'product_id': '1007',\n",
              "  'quantity': 3}}"
            ]
          },
          "metadata": {},
          "execution_count": 67
        }
      ]
    }
  ]
}